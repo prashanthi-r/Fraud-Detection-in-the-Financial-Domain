{
  "nbformat": 4,
  "nbformat_minor": 0,
  "metadata": {
    "colab": {
      "name": "Detection of Fraud in the Financial Domain",
      "provenance": [],
      "collapsed_sections": [],
      "machine_shape": "hm",
      "include_colab_link": true
    },
    "kernelspec": {
      "name": "python3",
      "display_name": "Python 3"
    },
    "accelerator": "GPU"
  },
  "cells": [
    {
      "cell_type": "markdown",
      "metadata": {
        "id": "view-in-github",
        "colab_type": "text"
      },
      "source": [
        "<a href=\"https://colab.research.google.com/github/prashanthi411/Fraud-Detection-in-the-Financial-Domain/blob/master/Detection_of_Fraud_in_the_Financial_Domain.ipynb\" target=\"_parent\"><img src=\"https://colab.research.google.com/assets/colab-badge.svg\" alt=\"Open In Colab\"/></a>"
      ]
    },
    {
      "cell_type": "markdown",
      "metadata": {
        "id": "dWNDQwfduqXn",
        "colab_type": "text"
      },
      "source": [
        "Mounting drive onto notebook"
      ]
    },
    {
      "cell_type": "code",
      "metadata": {
        "id": "4Y_8ZW30vJJA",
        "colab_type": "code",
        "outputId": "d862cfab-8a46-4fb6-b05d-02c4bf2a4e79",
        "colab": {
          "base_uri": "https://localhost:8080/",
          "height": 124
        }
      },
      "source": [
        "from google.colab import drive  \n",
        "drive.mount('/content/drive')"
      ],
      "execution_count": 0,
      "outputs": [
        {
          "output_type": "stream",
          "text": [
            "Go to this URL in a browser: https://accounts.google.com/o/oauth2/auth?client_id=947318989803-6bn6qk8qdgf4n4g3pfee6491hc0brc4i.apps.googleusercontent.com&redirect_uri=urn%3aietf%3awg%3aoauth%3a2.0%3aoob&response_type=code&scope=email%20https%3a%2f%2fwww.googleapis.com%2fauth%2fdocs.test%20https%3a%2f%2fwww.googleapis.com%2fauth%2fdrive%20https%3a%2f%2fwww.googleapis.com%2fauth%2fdrive.photos.readonly%20https%3a%2f%2fwww.googleapis.com%2fauth%2fpeopleapi.readonly\n",
            "\n",
            "Enter your authorization code:\n",
            "··········\n",
            "Mounted at /content/drive\n"
          ],
          "name": "stdout"
        }
      ]
    },
    {
      "cell_type": "markdown",
      "metadata": {
        "id": "cPLzzwMIupXc",
        "colab_type": "text"
      },
      "source": [
        "Reading from .csv file"
      ]
    },
    {
      "cell_type": "code",
      "metadata": {
        "id": "T6lDQcrgy2x6",
        "colab_type": "code",
        "colab": {}
      },
      "source": [
        "path = \"/content/drive/My Drive/data/PS_20174392719_1491204439457_log.csv\"\n",
        "f = open(path)\n",
        "lines = f.read().splitlines()\t\t\t\n",
        "lines = [i.split(\",\") for i in lines]\n",
        "\n",
        "data = 0\n",
        "for i in range(1,len(lines)):\n",
        "\tdata+=int(lines[i][9])"
      ],
      "execution_count": 0,
      "outputs": []
    },
    {
      "cell_type": "markdown",
      "metadata": {
        "id": "dTVPUCP2u0ib",
        "colab_type": "text"
      },
      "source": [
        "Importing packages"
      ]
    },
    {
      "cell_type": "code",
      "metadata": {
        "id": "IO-XU4Dz101o",
        "colab_type": "code",
        "outputId": "0d2b96f0-59b7-4bc6-efe6-0435bb3ac4f3",
        "colab": {
          "base_uri": "https://localhost:8080/",
          "height": 106
        }
      },
      "source": [
        "import sklearn\n",
        "import imblearn\n",
        "import random\n",
        "from imblearn.over_sampling import SMOTE\n",
        "from collections import Counter\n",
        "\n",
        "print(lines[0])\n",
        "print(data)"
      ],
      "execution_count": 0,
      "outputs": [
        {
          "output_type": "stream",
          "text": [
            "/usr/local/lib/python3.6/dist-packages/sklearn/externals/six.py:31: DeprecationWarning: The module is deprecated in version 0.21 and will be removed in version 0.23 since we've dropped support for Python 2.7. Please rely on the official version of six (https://pypi.org/project/six/).\n",
            "  \"(https://pypi.org/project/six/).\", DeprecationWarning)\n"
          ],
          "name": "stderr"
        },
        {
          "output_type": "stream",
          "text": [
            "['step', 'type', 'amount', 'nameOrig', 'oldbalanceOrg', 'newbalanceOrig', 'nameDest', 'oldbalanceDest', 'newbalanceDest', 'isFraud', 'isFlaggedFraud']\n",
            "8213\n"
          ],
          "name": "stdout"
        }
      ]
    },
    {
      "cell_type": "markdown",
      "metadata": {
        "id": "dmLUyakwu4Uk",
        "colab_type": "text"
      },
      "source": [
        "Cleaning data - converting them to appropriate types"
      ]
    },
    {
      "cell_type": "code",
      "metadata": {
        "id": "DUh0RpTh2BrU",
        "colab_type": "code",
        "outputId": "c229e249-d850-4517-bce6-39f460338c64",
        "colab": {
          "base_uri": "https://localhost:8080/",
          "height": 208
        }
      },
      "source": [
        "for j in range(1,len(lines)):\n",
        "  for i in range(11):\n",
        "    if((i!=1)&(i!=3)&(i!=6)):\n",
        "      if((i==0)|(i==9)|(i==10)):\n",
        "        lines[j][i] = int(lines[j][i])\n",
        "      else:\n",
        "        lines[j][i] = float(lines[j][i])\n",
        "lines[1]        \n"
      ],
      "execution_count": 0,
      "outputs": [
        {
          "output_type": "execute_result",
          "data": {
            "text/plain": [
              "[1,\n",
              " 'PAYMENT',\n",
              " 9839.64,\n",
              " 'C1231006815',\n",
              " 170136.0,\n",
              " 160296.36,\n",
              " 'M1979787155',\n",
              " 0.0,\n",
              " 0.0,\n",
              " 0,\n",
              " 0]"
            ]
          },
          "metadata": {
            "tags": []
          },
          "execution_count": 4
        }
      ]
    },
    {
      "cell_type": "markdown",
      "metadata": {
        "id": "rSB3fXb6vADQ",
        "colab_type": "text"
      },
      "source": [
        "Hot Encoding categorical data"
      ]
    },
    {
      "cell_type": "code",
      "metadata": {
        "id": "5sgX0fIjktxT",
        "colab_type": "code",
        "outputId": "3533d9fc-f961-4434-b7b4-e7625530c0a6",
        "colab": {
          "base_uri": "https://localhost:8080/",
          "height": 52
        }
      },
      "source": [
        "transaction_type = {'CASH_IN':[1,0,0,0,0], 'CASH_OUT':[0,1,0,0,0], 'DEBIT':[0,0,1,0,0], 'PAYMENT':[0,0,0,1,0], 'TRANSFER':[0,0,0,0,1]}\n",
        "\n",
        "data = lines[1:]\n",
        "random.shuffle(data)\n",
        "y = []\n",
        "x = []\n",
        "\n",
        "for i in data:\n",
        "  y+=[i[9]]\n",
        "  x+=[transaction_type[i[1]]+i[2:3]+i[4:6]+i[7:9]]\n",
        "\n",
        "print(x[8])\n",
        "Counter(y)"
      ],
      "execution_count": 0,
      "outputs": [
        {
          "output_type": "stream",
          "text": [
            "[0, 1, 0, 0, 0, 54797.11, 0.0, 0.0, 575783.69, 630580.8]\n"
          ],
          "name": "stdout"
        },
        {
          "output_type": "execute_result",
          "data": {
            "text/plain": [
              "Counter({0: 6354407, 1: 8213})"
            ]
          },
          "metadata": {
            "tags": []
          },
          "execution_count": 5
        }
      ]
    },
    {
      "cell_type": "code",
      "metadata": {
        "id": "e0Hmo-wklGot",
        "colab_type": "code",
        "outputId": "53489955-7be5-479f-b2a4-f71cfe7d1057",
        "colab": {
          "base_uri": "https://localhost:8080/",
          "height": 452
        }
      },
      "source": [
        "import matplotlib.pyplot as plt; plt.rcdefaults()\n",
        "import numpy as np\n",
        "import matplotlib.pyplot as plt\n",
        "\n",
        "objects = ('Fraudulent', 'Non-Fraudulent')\n",
        "y_pos = np.arange(len(objects))\n",
        "counter = Counter(y)\n",
        "performance = [counter[0],counter[1]]\n",
        "\n",
        "plt.bar(y_pos, performance, align='center', alpha=0.5)\n",
        "plt.xticks(y_pos, objects)\n",
        "plt.ylabel('Number of Data Points')\n",
        "plt.title('Original Dataset')\n",
        "\n",
        "plt.show()"
      ],
      "execution_count": 0,
      "outputs": [
        {
          "output_type": "display_data",
          "data": {
            "image/png": "[encoded data removed]",
            "text/plain": [
              "<Figure size 640x480 with 1 Axes>"
            ]
          },
          "metadata": {
            "tags": []
          }
        }
      ]
    },
    {
      "cell_type": "markdown",
      "metadata": {
        "id": "QraGXykTvOgU",
        "colab_type": "text"
      },
      "source": [
        "Splitting data into training and testing data"
      ]
    },
    {
      "cell_type": "code",
      "metadata": {
        "id": "pFKwOGEqXzWz",
        "colab_type": "code",
        "colab": {}
      },
      "source": [
        "x_train = x\n",
        "y_train = y"
      ],
      "execution_count": 0,
      "outputs": []
    },
    {
      "cell_type": "markdown",
      "metadata": {
        "id": "C9iROjievJZG",
        "colab_type": "text"
      },
      "source": [
        "Oversampling training data using SMOTE"
      ]
    },
    {
      "cell_type": "code",
      "metadata": {
        "id": "o3EO10eslDDl",
        "colab_type": "code",
        "outputId": "93471536-473f-4126-bbff-1ff2af6d32e2",
        "colab": {
          "base_uri": "https://localhost:8080/",
          "height": 452
        }
      },
      "source": [
        "sme = SMOTE(random_state=42)\n",
        "X_res, y_res = sme.fit_resample(x_train, y_train)\n",
        "\n",
        "counter = Counter(y_res)\n",
        "\n",
        "import matplotlib.pyplot as plt; plt.rcdefaults()\n",
        "import numpy as np\n",
        "import matplotlib.pyplot as plt\n",
        "\n",
        "objects = ('Fraudulent', 'Non-Fraudulent')\n",
        "y_pos = np.arange(len(objects))\n",
        "performance = [counter[0],counter[1]]\n",
        "\n",
        "plt.bar(y_pos, performance, align='center', alpha=0.5)\n",
        "plt.xticks(y_pos, objects)\n",
        "plt.ylabel('Number of Data Points')\n",
        "plt.title('After SMOTE')\n",
        "\n",
        "plt.show()"
      ],
      "execution_count": 0,
      "outputs": [
        {
          "output_type": "display_data",
          "data": {
            "image/png": "[encoded data removed]",
            "text/plain": [
              "<Figure size 640x480 with 1 Axes>"
            ]
          },
          "metadata": {
            "tags": []
          }
        }
      ]
    },
    {
      "cell_type": "code",
      "metadata": {
        "id": "pCLoM5oCGPzT",
        "colab_type": "code",
        "outputId": "bc9adfa4-8829-4f89-9716-b018bed2a579",
        "colab": {
          "base_uri": "https://localhost:8080/",
          "height": 35
        }
      },
      "source": [
        "N = len(y_res)\n",
        "print(N)"
      ],
      "execution_count": 0,
      "outputs": [
        {
          "output_type": "stream",
          "text": [
            "12708814\n"
          ],
          "name": "stdout"
        }
      ]
    },
    {
      "cell_type": "markdown",
      "metadata": {
        "id": "7DF4-lVJvZcs",
        "colab_type": "text"
      },
      "source": [
        "RANDOM FOREST CLASSIFIER\n"
      ]
    },
    {
      "cell_type": "code",
      "metadata": {
        "id": "8Cs4NZLcKN1l",
        "colab_type": "code",
        "outputId": "6de10616-7f2e-47fe-a9dc-c2b593a6df38",
        "colab": {
          "base_uri": "https://localhost:8080/",
          "height": 35
        }
      },
      "source": [
        "# RANDOM FOREST CLASSIFIER \n",
        "from sklearn.ensemble import RandomForestClassifier\n",
        "dec = RandomForestClassifier(n_estimators = 50, criterion = \"entropy\", n_jobs = -1 )\n",
        "dec = dec.fit(x_train, y_train)\n",
        "print(\"done\")"
      ],
      "execution_count": 0,
      "outputs": [
        {
          "output_type": "stream",
          "text": [
            "done\n"
          ],
          "name": "stdout"
        }
      ]
    },
    {
      "cell_type": "code",
      "metadata": {
        "id": "mpIqHCtWrg4Y",
        "colab_type": "code",
        "outputId": "36f5d9b1-b4f8-43bc-e195-0a1fd8c547d1",
        "colab": {
          "base_uri": "https://localhost:8080/",
          "height": 201
        }
      },
      "source": [
        "# from sklearn.metrics import classification_report, confusion_matrix\n",
        "# print(confusion_matrix(y_test, y_pred))\n",
        "# print(classification_report(y_test, y_pred))"
      ],
      "execution_count": 0,
      "outputs": [
        {
          "output_type": "error",
          "ename": "NameError",
          "evalue": "ignored",
          "traceback": [
            "\u001b[0;31m---------------------------------------------------------------------------\u001b[0m",
            "\u001b[0;31mNameError\u001b[0m                                 Traceback (most recent call last)",
            "\u001b[0;32m<ipython-input-20-f0fc2fa23a45>\u001b[0m in \u001b[0;36m<module>\u001b[0;34m()\u001b[0m\n\u001b[1;32m      1\u001b[0m \u001b[0;32mfrom\u001b[0m \u001b[0msklearn\u001b[0m\u001b[0;34m.\u001b[0m\u001b[0mmetrics\u001b[0m \u001b[0;32mimport\u001b[0m \u001b[0mclassification_report\u001b[0m\u001b[0;34m,\u001b[0m \u001b[0mconfusion_matrix\u001b[0m\u001b[0;34m\u001b[0m\u001b[0;34m\u001b[0m\u001b[0m\n\u001b[0;32m----> 2\u001b[0;31m \u001b[0mprint\u001b[0m\u001b[0;34m(\u001b[0m\u001b[0mconfusion_matrix\u001b[0m\u001b[0;34m(\u001b[0m\u001b[0my_test\u001b[0m\u001b[0;34m,\u001b[0m \u001b[0my_pred\u001b[0m\u001b[0;34m)\u001b[0m\u001b[0;34m)\u001b[0m\u001b[0;34m\u001b[0m\u001b[0;34m\u001b[0m\u001b[0m\n\u001b[0m\u001b[1;32m      3\u001b[0m \u001b[0mprint\u001b[0m\u001b[0;34m(\u001b[0m\u001b[0mclassification_report\u001b[0m\u001b[0;34m(\u001b[0m\u001b[0my_test\u001b[0m\u001b[0;34m,\u001b[0m \u001b[0my_pred\u001b[0m\u001b[0;34m)\u001b[0m\u001b[0;34m)\u001b[0m\u001b[0;34m\u001b[0m\u001b[0;34m\u001b[0m\u001b[0m\n",
            "\u001b[0;31mNameError\u001b[0m: name 'y_test' is not defined"
          ]
        }
      ]
    },
    {
      "cell_type": "markdown",
      "metadata": {
        "id": "WIV-MiZl_UcV",
        "colab_type": "text"
      },
      "source": [
        "CLASSIFICATION DONE\n",
        "\n",
        "CLUSTERING---"
      ]
    },
    {
      "cell_type": "code",
      "metadata": {
        "id": "YMXuU-6O_B3V",
        "colab_type": "code",
        "outputId": "2c4d36fb-40fc-45b2-b27b-70b4d9bbcb44",
        "colab": {
          "base_uri": "https://localhost:8080/",
          "height": 35
        }
      },
      "source": [
        "non_fraud = []\n",
        "\n",
        "for i in range(len(x_train)):\n",
        "  if(y_train[i]==0):\n",
        "    non_fraud.append(x_train[i])\n",
        "print(len(non_fraud))"
      ],
      "execution_count": 0,
      "outputs": [
        {
          "output_type": "stream",
          "text": [
            "6354407\n"
          ],
          "name": "stdout"
        }
      ]
    },
    {
      "cell_type": "markdown",
      "metadata": {
        "id": "VVDfjhvOwBYx",
        "colab_type": "text"
      },
      "source": [
        "COMPUTING AVG EUCLEDIAN DISTANCE BETWEEN PAIRS OF POINTS FOR A SET OF ALL POINTS"
      ]
    },
    {
      "cell_type": "markdown",
      "metadata": {
        "id": "wHB7f_g1NheQ",
        "colab_type": "text"
      },
      "source": [
        "---------DBSCAN CLUSTERING ON NON-FRAUDULENT DATA-----------"
      ]
    },
    {
      "cell_type": "code",
      "metadata": {
        "id": "7Jyqol4zqt4x",
        "colab_type": "code",
        "outputId": "9cdbb88f-c236-4f7e-ff51-f6e99315ea0b",
        "colab": {
          "base_uri": "https://localhost:8080/",
          "height": 52
        }
      },
      "source": [
        "import numpy as np \n",
        "from sklearn.cluster import DBSCAN \n",
        "from sklearn import metrics \n",
        "from sklearn.datasets.samples_generator import make_blobs \n",
        "from sklearn.preprocessing import StandardScaler\n",
        "from sklearn import datasets\n",
        "\n",
        "db = DBSCAN(eps=3000, min_samples=12).fit(non_fraud[:100000]) \n",
        "print(db.labels_) \n",
        "print(\"done\")"
      ],
      "execution_count": 0,
      "outputs": [
        {
          "output_type": "stream",
          "text": [
            "[ 0 -1  0 ... -1 -1 -1]\n",
            "done\n"
          ],
          "name": "stdout"
        }
      ]
    },
    {
      "cell_type": "code",
      "metadata": {
        "id": "v7C7S3QjCLdO",
        "colab_type": "code",
        "outputId": "4935e242-4466-42fa-fca2-9da8f3fef3d1",
        "colab": {
          "base_uri": "https://localhost:8080/",
          "height": 72
        }
      },
      "source": [
        "from collections import Counter\n",
        "print(Counter(db.labels_))\n",
        "n_clusters_ = len(set(db.labels_)) - (1 if -1 in db.labels_ else 0) \n",
        "print(n_clusters_)"
      ],
      "execution_count": 0,
      "outputs": [
        {
          "output_type": "stream",
          "text": [
            "Counter({-1: 69117, 0: 29360, 4: 251, 1: 85, 11: 67, 6: 65, 27: 57, 17: 55, 3: 48, 34: 40, 20: 35, 30: 32, 22: 29, 14: 28, 13: 28, 38: 28, 36: 26, 19: 25, 40: 24, 10: 22, 18: 21, 2: 20, 26: 20, 5: 19, 48: 18, 21: 18, 53: 18, 23: 18, 44: 18, 12: 17, 43: 17, 16: 16, 32: 16, 8: 16, 51: 16, 25: 15, 46: 15, 41: 14, 54: 14, 28: 14, 24: 14, 50: 13, 31: 13, 15: 13, 42: 13, 45: 13, 9: 12, 37: 12, 49: 12, 58: 12, 7: 12, 29: 12, 55: 12, 52: 12, 35: 12, 57: 12, 33: 12, 47: 11, 56: 11, 39: 5})\n",
            "59\n"
          ],
          "name": "stdout"
        }
      ]
    },
    {
      "cell_type": "code",
      "metadata": {
        "id": "P6nCvHf0GIhq",
        "colab_type": "code",
        "outputId": "77cb3d7e-54ad-485a-e024-25bc097762ac",
        "colab": {
          "base_uri": "https://localhost:8080/",
          "height": 52
        }
      },
      "source": [
        "t = input(\"Enter transaction: \")\n",
        "test = t.split(\",\")\n",
        "\n",
        "for i in range(11):\n",
        "  if((i!=1)&(i!=3)&(i!=6)):\n",
        "    if((i==0)|(i==9)|(i==10)):\n",
        "      test[i] = int(test[i])\n",
        "    else:\n",
        "      test[i] = float(test[i])\n",
        "\n",
        "x_test=transaction_type[test[1]]+test[2:3]+test[4:6]+test[7:9]\n",
        "\n",
        "print(x_test)"
      ],
      "execution_count": 0,
      "outputs": [
        {
          "output_type": "stream",
          "text": [
            "Enter transaction: 1,TRANSFER,181.0,C1305486145,181.0,0.0,C553264065,0.0,0.0,1,0\n",
            "[0, 0, 0, 0, 1, 181.0, 181.0, 0.0, 0.0, 0.0]\n"
          ],
          "name": "stdout"
        }
      ]
    },
    {
      "cell_type": "code",
      "metadata": {
        "id": "iCGafeSfQfde",
        "colab_type": "code",
        "outputId": "7d4039a6-a130-439d-fa0c-ed89ec5ae667",
        "colab": {
          "base_uri": "https://localhost:8080/",
          "height": 35
        }
      },
      "source": [
        "y_test = dec.predict([x_test] )\n",
        "eps = 3000\n",
        "if(y_test == 1):\n",
        "  print(\"Fraudulent\")\n",
        "else:\n",
        "  flag = 0\n",
        "  for i in db.core_sample_indices_:\n",
        "    dist = 0\n",
        "    for k in range(10):\n",
        "      dist = dist+pow((non_fraud[i][k] - non_fraud[j][k]),2)\n",
        "    dist = math.sqrt(dist)\n",
        "    if(dist<eps):\n",
        "      flag = 1\n",
        "      break\n",
        "  if(flag == 0):\n",
        "    print(\"Fraudulent\")\n",
        "  else:\n",
        "    print(\"Non - Fraudulent\")\n"
      ],
      "execution_count": 0,
      "outputs": [
        {
          "output_type": "stream",
          "text": [
            "Fraudulent\n"
          ],
          "name": "stdout"
        }
      ]
    }
  ]
}